{
 "cells": [
  {
   "cell_type": "code",
   "execution_count": 1,
   "id": "54f884e2",
   "metadata": {},
   "outputs": [
    {
     "name": "stdout",
     "output_type": "stream",
     "text": [
      "Requirement already satisfied: robotframework in c:\\users\\pooja\\anaconda3\\lib\\site-packages (6.0.2)\n",
      "Note: you may need to restart the kernel to use updated packages.\n"
     ]
    }
   ],
   "source": [
    "pip install robotframework"
   ]
  },
  {
   "cell_type": "code",
   "execution_count": 2,
   "id": "2e67457c",
   "metadata": {},
   "outputs": [],
   "source": [
    "class ShippingCalculator:\n",
    "    def __init__(self):\n",
    "        self.user_type = None\n",
    "\n",
    "    def set_user_type(self, user_type):\n",
    "        self.user_type = user_type\n",
    "\n",
    "    def calculate_shipping_cost(self, total_order_cost, shipping_option):\n",
    "        if self.user_type == \"Valid\":\n",
    "            if total_order_cost < 50:\n",
    "                if shipping_option == \"Standard\":\n",
    "                    return 10\n",
    "                elif shipping_option == \"Express\":\n",
    "                    return 20\n",
    "            elif 50 <= total_order_cost <= 100:\n",
    "                if shipping_option == \"Standard\":\n",
    "                    return 5\n",
    "                elif shipping_option == \"Express\":\n",
    "                    return 15\n",
    "            elif total_order_cost > 100:\n",
    "                if shipping_option == \"Standard\":\n",
    "                    return 0\n",
    "                elif shipping_option == \"Express\":\n",
    "                    return 10\n",
    "        else:\n",
    "            return \"Error: Invalid User\"\n"
   ]
  },
  {
   "cell_type": "code",
   "execution_count": 3,
   "id": "caa575ba",
   "metadata": {},
   "outputs": [],
   "source": [
    "import ipytest\n",
    "ipytest.autoconfig()"
   ]
  },
  {
   "cell_type": "code",
   "execution_count": 4,
   "id": "1bc5d0bb",
   "metadata": {},
   "outputs": [
    {
     "name": "stdout",
     "output_type": "stream",
     "text": [
      "Robot Framework 6.0.2 (Python 3.9.12 on win32)\n",
      "\n"
     ]
    }
   ],
   "source": [
    "import subprocess\n",
    "\n",
    "# Define the command\n",
    "command = \"robot --version\"\n",
    "\n",
    "# Run the command and capture the output\n",
    "result = subprocess.run(command, shell=True, capture_output=True, text=True)\n",
    "\n",
    "# Print the output\n",
    "print(result.stdout)\n"
   ]
  },
  {
   "cell_type": "code",
   "execution_count": 5,
   "id": "0870eb02",
   "metadata": {},
   "outputs": [
    {
     "name": "stdout",
     "output_type": "stream",
     "text": [
      "==============================================================================\n",
      "Shipping                                                                      \n",
      "==============================================================================\n",
      "TC1                                                                   | PASS |\n",
      "------------------------------------------------------------------------------\n",
      "TC2                                                                   | FAIL |\n",
      "10 != 20\n",
      "------------------------------------------------------------------------------\n",
      "TC3                                                                   | PASS |\n",
      "------------------------------------------------------------------------------\n",
      "TC4                                                                   | FAIL |\n",
      "5 != 15\n",
      "------------------------------------------------------------------------------\n",
      "TC5                                                                   | PASS |\n",
      "------------------------------------------------------------------------------\n",
      "TC6                                                                   | FAIL |\n",
      "0 != 10\n",
      "------------------------------------------------------------------------------\n",
      "TC7                                                                   | PASS |\n",
      "------------------------------------------------------------------------------\n",
      "TC8                                                                   | PASS |\n",
      "------------------------------------------------------------------------------\n",
      "TC9                                                                   | PASS |\n",
      "------------------------------------------------------------------------------\n",
      "TC10                                                                  | PASS |\n",
      "------------------------------------------------------------------------------\n",
      "TC11                                                                  | PASS |\n",
      "------------------------------------------------------------------------------\n",
      "TC12                                                                  | PASS |\n",
      "------------------------------------------------------------------------------\n",
      "TC13                                                                  | PASS |\n",
      "------------------------------------------------------------------------------\n",
      "TC14                                                                  | FAIL |\n",
      "0 != 10\n",
      "------------------------------------------------------------------------------\n",
      "TC15                                                                  | PASS |\n",
      "------------------------------------------------------------------------------\n",
      "TC16                                                                  | PASS |\n",
      "------------------------------------------------------------------------------\n",
      "TC17                                                                  | PASS |\n",
      "------------------------------------------------------------------------------\n",
      "TC18                                                                  | FAIL |\n",
      "10 != 20\n",
      "------------------------------------------------------------------------------\n",
      "TC19                                                                  | PASS |\n",
      "------------------------------------------------------------------------------\n",
      "TC20                                                                  | PASS |\n",
      "------------------------------------------------------------------------------\n",
      "Shipping                                                              | FAIL |\n",
      "20 tests, 15 passed, 5 failed\n",
      "==============================================================================\n",
      "Output:  C:\\Users\\Pooja\\Desktop\\ST\\output.xml\n",
      "Log:     C:\\Users\\Pooja\\Desktop\\ST\\log.html\n",
      "Report:  C:\\Users\\Pooja\\Desktop\\ST\\report.html\n",
      "\n",
      "\n"
     ]
    }
   ],
   "source": [
    "import subprocess\n",
    "\n",
    "# Define the command to execute the test suite\n",
    "command = \"robot C:/Users/Pooja/Desktop/ST/shipping.robot\"\n",
    "\n",
    "# Run the command and capture the output\n",
    "result = subprocess.run(command, shell=True, capture_output=True, text=True)\n",
    "\n",
    "# Print the output\n",
    "print(result.stdout)\n",
    "print(result.stderr)"
   ]
  },
  {
   "cell_type": "code",
   "execution_count": 6,
   "id": "5722ed71",
   "metadata": {},
   "outputs": [
    {
     "name": "stdout",
     "output_type": "stream",
     "text": [
      "10\n"
     ]
    }
   ],
   "source": [
    "calculator = ShippingCalculator()\n",
    "\n",
    "calculator.set_user_type(\"Valid\")\n",
    "result = calculator.calculate_shipping_cost(40, \"Standard\")\n",
    "print(result)  # Expected output: 10"
   ]
  },
  {
   "cell_type": "code",
   "execution_count": 7,
   "id": "9dc481f1",
   "metadata": {},
   "outputs": [
    {
     "name": "stdout",
     "output_type": "stream",
     "text": [
      "Error: Invalid User\n"
     ]
    }
   ],
   "source": [
    "# Test case 2: Invalid user type, total_order_cost = 80, shipping_option = \"Express\"\n",
    "calculator.set_user_type(\"Invalid\")\n",
    "result = calculator.calculate_shipping_cost(80, \"Express\")\n",
    "print(result)  # Expected output: Error: Invalid User"
   ]
  },
  {
   "cell_type": "code",
   "execution_count": 8,
   "id": "9a64d56f",
   "metadata": {},
   "outputs": [
    {
     "name": "stdout",
     "output_type": "stream",
     "text": [
      "0\n"
     ]
    }
   ],
   "source": [
    "# Test case 3: Valid user type, total_order_cost = 120, shipping_option = \"Standard\"\n",
    "calculator.set_user_type(\"Valid\")\n",
    "result = calculator.calculate_shipping_cost(120, \"Standard\")\n",
    "print(result)  # Expected output: 0"
   ]
  },
  {
   "cell_type": "code",
   "execution_count": null,
   "id": "f4161061",
   "metadata": {},
   "outputs": [],
   "source": []
  }
 ],
 "metadata": {
  "kernelspec": {
   "display_name": "Python 3 (ipykernel)",
   "language": "python",
   "name": "python3"
  },
  "language_info": {
   "codemirror_mode": {
    "name": "ipython",
    "version": 3
   },
   "file_extension": ".py",
   "mimetype": "text/x-python",
   "name": "python",
   "nbconvert_exporter": "python",
   "pygments_lexer": "ipython3",
   "version": "3.9.12"
  }
 },
 "nbformat": 4,
 "nbformat_minor": 5
}
